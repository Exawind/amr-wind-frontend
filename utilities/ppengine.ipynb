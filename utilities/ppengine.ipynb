{
 "cells": [
  {
   "cell_type": "markdown",
   "id": "fab99a78-1990-4ada-bfce-3cbc59b38bb0",
   "metadata": {},
   "source": [
    "# Postpro engine output\n",
    "\n",
    "Note: You can run this notebook from the command line with\n",
    "```bash\n",
    "export YAMLFILE=INPUT.yaml\n",
    "jupyter nbconvert --to notebook --execute ppengine.ipynb --output ${PWD}/OUTPUT.ipynb\n",
    "```\n",
    "\n",
    "where \n",
    "- `INPUT.yaml` is the name of the yaml file with the configuration (default: will look for postpro.yaml)\n",
    "- `OUTPUT.ipynb` is the name of the output notebook file\n",
    "\n",
    "Optional environment variables\n",
    "- `WORKDIR`: this the base path where all of the netcdf sample files are relative to (the notebook will change to `WORKDIR` before running)\n",
    "- `VERBOSE`: will turn on verbosity if this variable is set\n",
    "- `TITLE`: an optional title for notebook"
   ]
  },
  {
   "cell_type": "code",
   "execution_count": null,
   "id": "070b7610-c1ed-4df2-ab67-cda9c4357f50",
   "metadata": {},
   "outputs": [],
   "source": [
    "from IPython.core.display import display, HTML\n",
    "import os\n",
    "\n",
    "if os.getenv('TITLE') is not None:\n",
    "    display(HTML('<h1>'+os.getenv('TITLE')+'</h1>'))"
   ]
  },
  {
   "cell_type": "code",
   "execution_count": null,
   "id": "59a6aa4f-d563-47bb-b58a-74c8a4adc769",
   "metadata": {},
   "outputs": [],
   "source": [
    "# Load all of the modules\n",
    "import sys, os\n",
    "\n",
    "CWD             = os.getcwd()\n",
    "basepath        = os.path.dirname(CWD)\n",
    "OS_AMRWINDFEDIR = os.getenv('AMRWINDFEDIR')\n",
    "\n",
    "# Add any possible locations of amr-wind-frontend here\n",
    "amrwindfedirs = [basepath, ]\n",
    "if OS_AMRWINDFEDIR is not None: amrwindedirs.append(OS_AMRWINDFEDIR)\n",
    "for x in amrwindfedirs: sys.path.insert(1, x)\n",
    "\n",
    "import postproengine as ppeng"
   ]
  },
  {
   "cell_type": "code",
   "execution_count": null,
   "id": "f6438518-4070-4ed7-95f2-2845b82184c1",
   "metadata": {},
   "outputs": [],
   "source": [
    "# Load ruamel or pyyaml as needed                                                                                                                                                      \n",
    "try:\n",
    "    import ruamel.yaml\n",
    "    yaml = ruamel.yaml.YAML(typ='rt')\n",
    "    useruamel=True\n",
    "    loaderkwargs = {}\n",
    "    dumperkwargs = {}\n",
    "\n",
    "    Loader=yaml.load\n",
    "except:\n",
    "    import yaml as yaml\n",
    "    print(\"# Loaded yaml\")\n",
    "    useruamel=False\n",
    "    loaderkwargs = {}\n",
    "    dumperkwargs = {'default_flow_style':False }\n",
    "    Loader=yaml.safe_load"
   ]
  },
  {
   "cell_type": "code",
   "execution_count": null,
   "id": "5b65dea2-22e9-457e-9bdb-f4c7f9beb830",
   "metadata": {},
   "outputs": [],
   "source": [
    "OS_WORKDIR = os.getenv('WORKDIR')\n",
    "if OS_WORKDIR is not None:\n",
    "    os.chdir(OS_WORKDIR)"
   ]
  },
  {
   "cell_type": "code",
   "execution_count": null,
   "id": "d02b8d44-4557-49d1-9993-aa3445ce08b9",
   "metadata": {},
   "outputs": [],
   "source": [
    "OS_YAMLFILE = os.getenv('YAMLFILE')\n",
    "yamlfile = OS_YAMLFILE if OS_YAMLFILE is not None else 'postpro.yaml'\n",
    "\n",
    "verbose  = True if os.getenv('VERBOSE') is not None else False"
   ]
  },
  {
   "cell_type": "code",
   "execution_count": null,
   "id": "94872e33-2c61-47d8-98dd-29cb9635c687",
   "metadata": {},
   "outputs": [],
   "source": [
    "# Load the file                                                                                                                                                                    \n",
    "with open(yamlfile, 'r') as fp:\n",
    "    yamldict = Loader(fp, **loaderkwargs)"
   ]
  },
  {
   "cell_type": "code",
   "execution_count": null,
   "id": "7e77f952-8bd8-4f1d-a7d6-be0fddfe63e1",
   "metadata": {},
   "outputs": [],
   "source": [
    "# Run the driver                                                                                                                                                                   \n",
    "ppeng.driver(yamldict, verbose=verbose)"
   ]
  }
 ],
 "metadata": {
  "kernelspec": {
   "display_name": "Python 3 (ipykernel)",
   "language": "python",
   "name": "python3"
  },
  "language_info": {
   "codemirror_mode": {
    "name": "ipython",
    "version": 3
   },
   "file_extension": ".py",
   "mimetype": "text/x-python",
   "name": "python",
   "nbconvert_exporter": "python",
   "pygments_lexer": "ipython3",
   "version": "3.9.13"
  }
 },
 "nbformat": 4,
 "nbformat_minor": 5
}
