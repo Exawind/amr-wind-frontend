{
 "cells": [
  {
   "cell_type": "markdown",
   "metadata": {},
   "source": [
    "# Tutorial 2: ABL case\n",
    "\n",
    "This case will demonstrate how to use the `amrwind-frontend` python interface to setup an ABL case.  The case is a slightly unstable ABL case patterned after the IEA29 REF1 conditions measured off the coast of Denmark."
   ]
  },
  {
   "cell_type": "code",
   "execution_count": 1,
   "metadata": {
    "collapsed": false
   },
   "outputs": [],
   "source": [
    "# Load the modules\n",
    "amrwindfedir = '../../'\n",
    "import sys, os\n",
    "sys.path.insert(1, amrwindfedir)\n",
    "\n",
    "# Load the libraries\n",
    "import amrwind_frontend as amrwind\n",
    "import matplotlib.pyplot    as plt\n",
    "\n",
    "# Also ignore warnings\n",
    "import warnings\n",
    "warnings.filterwarnings('ignore')\n",
    "\n",
    "# Make all plots inline \n",
    "%matplotlib inline"
   ]
  },
  {
   "cell_type": "markdown",
   "metadata": {},
   "source": [
    "We first initialize the class using the `MyApp.init_nogui()` constructor."
   ]
  },
  {
   "cell_type": "code",
   "execution_count": 2,
   "metadata": {
    "collapsed": false
   },
   "outputs": [],
   "source": [
    "# Start the case\n",
    "case = amrwind.MyApp.init_nogui()"
   ]
  },
  {
   "cell_type": "markdown",
   "metadata": {},
   "source": [
    "We'll set the basic time marching parameters next.  We want to run for 20,000 seconds, or 40,000 iterations with dt=0.5"
   ]
  },
  {
   "cell_type": "code",
   "execution_count": 3,
   "metadata": {
    "collapsed": true
   },
   "outputs": [],
   "source": [
    "case.setAMRWindInput('time.stop_time', 20000.0)\n",
    "case.setAMRWindInput('time.max_step',  40000)\n",
    "\n",
    "case.setAMRWindInput('time.fixed_dt',  0.5)\n",
    "case.setAMRWindInput('time.checkpoint_interval',  2000)"
   ]
  },
  {
   "cell_type": "markdown",
   "metadata": {},
   "source": [
    "Next we set the simulation type: This is an ABL case, 1-eqn KSGS model.  The WENO scheme will be used as well."
   ]
  },
  {
   "cell_type": "code",
   "execution_count": 4,
   "metadata": {
    "collapsed": false
   },
   "outputs": [],
   "source": [
    "case.setAMRWindInput('incflo.physics',      ['ABL'])\n",
    "case.setAMRWindInput('incflo.verbose',      3)\n",
    "case.setAMRWindInput('io.check_file',       'chk')\n",
    "\n",
    "case.setAMRWindInput('incflo.use_godunov',  True)\n",
    "case.setAMRWindInput('incflo.godunov_type', 'weno')\n",
    "\n",
    "case.setAMRWindInput('turbulence.model',    ['OneEqKsgsM84'])\n",
    "case.setAMRWindInput('TKE.source_terms',    ['KsgsM84Src'])\n",
    "\n",
    "case.setAMRWindInput('transport.viscosity', 1.8375e-05)"
   ]
  },
  {
   "cell_type": "markdown",
   "metadata": {},
   "source": [
    "The statements above used the `setAMRWindInput()` calls.  The `loadAMRWindInput()` call can be used as well to set specific variables, as demonstrated by the tolerance parameters below:"
   ]
  },
  {
   "cell_type": "code",
   "execution_count": 5,
   "metadata": {
    "collapsed": false
   },
   "outputs": [],
   "source": [
    "# I'm lazy, just do this in a string\n",
    "tols = \"\"\"\n",
    "nodal_proj.mg_rtol                       = 1e-06               \n",
    "nodal_proj.mg_atol                       = 1e-12               \n",
    "mac_proj.mg_rtol                         = 1e-06               \n",
    "mac_proj.mg_atol                         = 1e-12               \n",
    "diffusion.mg_rtol                        = 1e-06               \n",
    "diffusion.mg_atol                        = 1e-12               \n",
    "temperature_diffusion.mg_rtol            = 1e-10               \n",
    "temperature_diffusion.mg_atol            = 1e-13               \n",
    "\"\"\"\n",
    "case.loadAMRWindInput(tols, string=True);"
   ]
  },
  {
   "cell_type": "markdown",
   "metadata": {},
   "source": [
    "We'll set the domain and boundary conditions next.  The physical domain will be 1.5km x 1.5km x 1.9km, with a 128 x 128 x 160 grid, for a mesh size of 12m cubed."
   ]
  },
  {
   "cell_type": "code",
   "execution_count": 6,
   "metadata": {
    "collapsed": true
   },
   "outputs": [],
   "source": [
    "case.setAMRWindInput('geometry.prob_lo', [ 0.0, 0.0, 0.0 ])\n",
    "case.setAMRWindInput('geometry.prob_hi', [1536.0, 1536.0, 1920.0])\n",
    "case.setAMRWindInput('amr.n_cell',       [128, 128, 160])"
   ]
  },
  {
   "cell_type": "markdown",
   "metadata": {},
   "source": [
    "The boundary conditions set set to be periodic in the $x$ and $y$ directions.  In the $z$ direction, a wall model is used at the bottom, and a slip wall at the top with a fixed temperature gradient."
   ]
  },
  {
   "cell_type": "code",
   "execution_count": 7,
   "metadata": {
    "collapsed": true
   },
   "outputs": [],
   "source": [
    "case.setAMRWindInput('is_periodicx', True)\n",
    "case.setAMRWindInput('is_periodicy', True)\n",
    "case.setAMRWindInput('is_periodicz', False)\n",
    "\n",
    "case.setAMRWindInput('zlo.type',              'wall_model')          \n",
    "case.setAMRWindInput('zlo.temperature_type',  'wall_model')          \n",
    "case.setAMRWindInput('zlo.tke_type',          'zero_gradient')       \n",
    "case.setAMRWindInput('zhi.type',              'slip_wall')           \n",
    "case.setAMRWindInput('zhi.temperature_type',  'fixed_gradient')      \n",
    "case.setAMRWindInput('zhi.temperature',       0.000974025974) "
   ]
  },
  {
   "cell_type": "markdown",
   "metadata": {},
   "source": [
    "The exact ABL parameters are set below.  Many of these are standard settings, but the important ones are:\n",
    "\n",
    "- `incflo.velocity`: The desired hubheight velocity\n",
    "- `ABLForcing.abl_forcing_height`: The turbine hub-height\n",
    "- `ABL.surface_roughness_z0`:  The surface roughness \n",
    "- `ABL.reference_temperature`: The reference temperature for teh ABL\n",
    "- `ABL.surface_temp_flux`: The amount of temperature flux through the lower surface"
   ]
  },
  {
   "cell_type": "code",
   "execution_count": 8,
   "metadata": {
    "collapsed": true
   },
   "outputs": [],
   "source": [
    "case.setAMRWindInput('ICNS.source_terms',     ['ABLForcing','BoussinesqBuoyancy', 'CoriolisForcing'])\n",
    "\n",
    "case.setAMRWindInput('ABL.stats_output_frequency',   1)                   \n",
    "case.setAMRWindInput('ABL.stats_output_format',      'netcdf')\n",
    "\n",
    "case.setAMRWindInput('incflo.velocity', [4.70059422901, 3.93463008353, 0.0])\n",
    "case.setAMRWindInput('ABLForcing.abl_forcing_height',   57.19)\n",
    "case.setAMRWindInput('ABL.kappa',                       0.4) \n",
    "\n",
    "case.setAMRWindInput('ABL.normal_direction',      2)\n",
    "case.setAMRWindInput('ABL.surface_roughness_z0',  0.0001)\n",
    "case.setAMRWindInput('ABL.reference_temperature', 288.15)\n",
    "case.setAMRWindInput('ABL.surface_temp_rate',     0.0)\n",
    "case.setAMRWindInput('ABL.surface_temp_flux',     0.0122096146646)\n",
    "\n",
    "case.setAMRWindInput('ABL.mo_beta_m',             16.0)\n",
    "case.setAMRWindInput('ABL.mo_gamma_m',            5.0)\n",
    "case.setAMRWindInput('ABL.mo_gamma_h',            5.0)\n",
    "case.setAMRWindInput('ABL.random_gauss_mean',     0.0)\n",
    "case.setAMRWindInput('ABL.random_gauss_var',      1.0)"
   ]
  },
  {
   "cell_type": "markdown",
   "metadata": {},
   "source": [
    "The latitude of the case is set below (important for Coriolis effects).  Also the initial temperature profile is given as a series of strings for the heights and temperature values"
   ]
  },
  {
   "cell_type": "code",
   "execution_count": 9,
   "metadata": {
    "collapsed": true
   },
   "outputs": [],
   "source": [
    "case.setAMRWindInput('CoriolisForcing.latitude',  55.49)\n",
    "case.setAMRWindInput('BoussinesqBuoyancy.reference_temperature', 288.15) \n",
    "\n",
    "case.setAMRWindInput('ABL.temperature_heights', '1050.0 1150.0 1920.0')\n",
    "case.setAMRWindInput('ABL.temperature_values',  '288.15 296.15 296.9')"
   ]
  },
  {
   "cell_type": "code",
   "execution_count": 10,
   "metadata": {
    "collapsed": true
   },
   "outputs": [],
   "source": [
    "# This is a case where we don't want to use the defaults in amrwind-frontend\n",
    "case.setAMRWindInput('ABL.perturb_ref_height', None)\n",
    "case.setAMRWindInput('ABL.Uperiods', None)\n",
    "case.setAMRWindInput('ABL.Vperiods', None)\n",
    "case.setAMRWindInput('ABL.deltaU',   None)\n",
    "case.setAMRWindInput('ABL.deltaV',   None)\n",
    "case.setAMRWindInput('ABL.theta_amplitude',   None)\n",
    "case.setAMRWindInput('ABL.cutoff_height',   None)"
   ]
  },
  {
   "cell_type": "markdown",
   "metadata": {},
   "source": [
    "Some of the I/O and output settings are given below.  We want to write full-field plot files every 2000 iterations, and include sampling planes written every 100 iterations"
   ]
  },
  {
   "cell_type": "code",
   "execution_count": 11,
   "metadata": {
    "collapsed": true
   },
   "outputs": [],
   "source": [
    "case.setAMRWindInput('time.plot_interval', 2000)\n",
    "\n",
    "case.setAMRWindInput('incflo.post_processing', ['sampling'])            \n",
    "case.setAMRWindInput('sampling.output_frequency', 100)                 \n",
    "case.setAMRWindInput('sampling.fields',           ['velocity', 'temperature'])"
   ]
  },
  {
   "cell_type": "markdown",
   "metadata": {},
   "source": [
    "The sampling planes are specified below.  We want a hub-height plane and also some planes around the periodic sides."
   ]
  },
  {
   "cell_type": "code",
   "execution_count": 12,
   "metadata": {
    "collapsed": true
   },
   "outputs": [],
   "source": [
    "sampleplane = case.get_default_samplingdict()\n",
    "# Modify the geometry\n",
    "sampleplane['sampling_name']         = 'p_hub'\n",
    "sampleplane['sampling_type']         = 'PlaneSampler'\n",
    "sampleplane['sampling_p_num_points'] = [129, 129]\n",
    "sampleplane['sampling_p_origin']     = [0, 0, 0]\n",
    "sampleplane['sampling_p_axis1']      = [1536, 0, 0]\n",
    "sampleplane['sampling_p_axis2']      = [0, 1536, 0]\n",
    "sampleplane['sampling_p_normal']     = [0, 0, 1]\n",
    "sampleplane['sampling_p_offsets']    = '17        28.5      41        57        77        90'\n",
    "case.add_sampling(sampleplane)\n",
    "\n",
    "sampleplane = case.get_default_samplingdict()\n",
    "sampleplane['sampling_name']         = 'xbc'\n",
    "sampleplane['sampling_type']         = 'PlaneSampler'\n",
    "sampleplane['sampling_p_num_points'] = [257, 161]\n",
    "sampleplane['sampling_p_origin']     = [0, 0, 0]\n",
    "sampleplane['sampling_p_axis1']      = [0, 1536, 0]\n",
    "sampleplane['sampling_p_axis2']      = [0, 0, 1920]\n",
    "sampleplane['sampling_p_normal']     = [1, 0, 0]\n",
    "sampleplane['sampling_p_offsets']    = '0.0 1536'\n",
    "case.add_sampling(sampleplane)\n",
    "\n",
    "sampleplane = case.get_default_samplingdict()\n",
    "sampleplane['sampling_name']         = 'ybc'\n",
    "sampleplane['sampling_type']         = 'PlaneSampler'\n",
    "sampleplane['sampling_p_num_points'] = [257, 161]\n",
    "sampleplane['sampling_p_origin']     = [0, 0, 0]\n",
    "sampleplane['sampling_p_axis1']      = [1536, 0, 0]\n",
    "sampleplane['sampling_p_axis2']      = [0, 0, 1920]\n",
    "sampleplane['sampling_p_normal']     = [0, 1, 0]\n",
    "sampleplane['sampling_p_offsets']    = '0.0 1536'\n",
    "case.add_sampling(sampleplane)"
   ]
  },
  {
   "cell_type": "markdown",
   "metadata": {},
   "source": [
    "### Plot the domain\n",
    "The domain and wind direction are plotted using the `plotDomain()` function.  You can get a quick idea of the sampling planes and wind direction relative to everything else."
   ]
  },
  {
   "cell_type": "code",
   "execution_count": 13,
   "metadata": {
    "collapsed": false
   },
   "outputs": [
    {
     "data": {
      "image/png": "[encoded data removed]",
      "text/plain": [
       "<matplotlib.figure.Figure at 0x7fffb70e9950>"
      ]
     },
     "metadata": {},
     "output_type": "display_data"
    }
   ],
   "source": [
    "fig, ax = plt.subplots(figsize=(7,7), facecolor='w', dpi=150)\n",
    "\n",
    "# Set any additional items to plot\n",
    "case.popup_storteddata['plotdomain']['plot_sampleprobes']    = ['xbc', 'ybc'] #['p_hub']\n",
    "case.plotDomain(ax=ax)"
   ]
  },
  {
   "cell_type": "markdown",
   "metadata": {},
   "source": [
    "### Write the input file\n",
    "Finally, we write out the input file:"
   ]
  },
  {
   "cell_type": "code",
   "execution_count": 14,
   "metadata": {
    "collapsed": false
   },
   "outputs": [],
   "source": [
    "# Write the input file\n",
    "case.writeAMRWindInput('tutorial2.inp');"
   ]
  },
  {
   "cell_type": "code",
   "execution_count": null,
   "metadata": {
    "collapsed": true
   },
   "outputs": [],
   "source": []
  }
 ],
 "metadata": {
  "kernelspec": {
   "display_name": "Python 2",
   "language": "python",
   "name": "python2"
  },
  "language_info": {
   "codemirror_mode": {
    "name": "ipython",
    "version": 2
   },
   "file_extension": ".py",
   "mimetype": "text/x-python",
   "name": "python",
   "nbconvert_exporter": "python",
   "pygments_lexer": "ipython2",
   "version": "2.7.13"
  }
 },
 "nbformat": 4,
 "nbformat_minor": 2
}
