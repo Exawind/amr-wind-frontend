{
 "cells": [
  {
   "cell_type": "markdown",
   "metadata": {
    "deletable": true,
    "editable": true
   },
   "source": [
    "# Tutorial 1: Setting up a turbine run\n",
    "## Using python interface of `amrwind_frontend`\n",
    "\n",
    "This tutorial shows how the python interface to `amrwind_frontend` can be used to used to accomplish the same actions as the GUI interface demonstrated in [tutorial1](tutorial1gui.md).\n",
    "\n",
    "For the jupyter notebook version of this tutorial, see [tutorial1_python.ipynb](tutorial1_python.ipynb).  In fact, this markdown was created using the command\n",
    "```bash\n",
    "jupyter nbconvert --to markdown tutorial1_python.ipynb\n",
    "```\n",
    "\n",
    "**Contents**  \n",
    "\n",
    "[[_TOC_]]\n"
   ]
  },
  {
   "cell_type": "markdown",
   "metadata": {
    "deletable": true,
    "editable": true
   },
   "source": [
    "## Initialization\n",
    "First the `amrwind_frontend` needs to be loaded, along with some other libraries.  Note that `amrwindfedir` should be set to wherever `amrwind_frontend` was downloaded and installed."
   ]
  },
  {
   "cell_type": "code",
   "execution_count": 1,
   "metadata": {
    "collapsed": false,
    "deletable": true,
    "editable": true
   },
   "outputs": [],
   "source": [
    "%%capture \n",
    "\n",
    "# Important header information\n",
    "amrwindfedir = '/projects/wind_uq/lcheung/amrwind-frontend'\n",
    "import sys, os\n",
    "sys.path.insert(1, amrwindfedir)\n",
    "\n",
    "# Load the libraries\n",
    "import matplotlib.pyplot    as plt\n",
    "import amrwind_frontend as amrwind\n",
    "\n",
    "# Also ignore warnings\n",
    "import warnings\n",
    "warnings.filterwarnings('ignore')\n",
    "\n",
    "# Make all plots inline \n",
    "%matplotlib inline"
   ]
  },
  {
   "cell_type": "markdown",
   "metadata": {
    "deletable": true,
    "editable": true
   },
   "source": [
    "Now the working directory needs to be created where the necessary input files and turbine files will be stored. "
   ]
  },
  {
   "cell_type": "code",
   "execution_count": 2,
   "metadata": {
    "collapsed": false,
    "deletable": true,
    "editable": true
   },
   "outputs": [],
   "source": [
    "# Create the working directory and switch to it\n",
    "workingdir='tutorial1run'\n",
    "try:\n",
    "    os.mkdir(workingdir)\n",
    "except:\n",
    "    pass\n",
    "os.chdir(workingdir)"
   ]
  },
  {
   "cell_type": "markdown",
   "metadata": {
    "deletable": true,
    "editable": true
   },
   "source": [
    "To create an instance of the `amrwind_frontend` app that works without the GUI, instantiate `MyApp` with the `init_nogui()` method:"
   ]
  },
  {
   "cell_type": "code",
   "execution_count": 3,
   "metadata": {
    "collapsed": false,
    "deletable": true,
    "editable": true
   },
   "outputs": [],
   "source": [
    "# Start the amrwind_frontend app \n",
    "tutorial1 = amrwind.MyApp.init_nogui()"
   ]
  },
  {
   "cell_type": "markdown",
   "metadata": {
    "deletable": true,
    "editable": true
   },
   "source": [
    "## Adding inputs\n",
    "\n",
    "There are two ways to set AMR-Wind parameters using the python interface.  The first is text based, using the `loadAMRWindInput()` interface.  This can be used by defining a string with the AMR-Wind input, written as it would be in a standard input file, and then loading it in:\n",
    "```python\n",
    "inputstr=\"\"\"\n",
    "time.stop_time                           = 100.0               # Max (simulated) time to evolve\n",
    "time.max_step                            = -1                  \n",
    "time.fixed_dt                            = 0.1                 \n",
    "\"\"\"\n",
    "# Load the input into the app\n",
    "tutorial1.loadAMRWindInput(inputstr, string=True)\n",
    "```\n",
    "\n",
    "The `loadAMRWindInput()` interface can also be used to load an entire input file, simply by providing the filename and making sure `string=False` (or removed from the call):\n",
    "```python\n",
    "tutorial1.loadAMRWindInput(filename)\n",
    "```\n",
    "\n",
    "However, this way does not maximize the full potential of the python interface.  The second method of input uses the `setAMRWindInput(parametername, value)` interface.  The argument `parametername` can be either the AMR-Wind parameter name, or an internal `amrwind_frontend` parameter (more on this later).  We'll demonstrate this method later on."
   ]
  },
  {
   "cell_type": "markdown",
   "metadata": {
    "deletable": true,
    "editable": true
   },
   "source": [
    "### Set the simulation type and properties\n",
    "\n",
    "We'll first set some basic properties of the simulation, like the simulation time and some time marching properties:"
   ]
  },
  {
   "cell_type": "code",
   "execution_count": 4,
   "metadata": {
    "collapsed": false,
    "deletable": true,
    "editable": true
   },
   "outputs": [],
   "source": [
    "tutorial1.setAMRWindInput('time_control',['const dt'])\n",
    "tutorial1.setAMRWindInput('time.stop_time',100)\n",
    "tutorial1.setAMRWindInput('time.fixed_dt', 0.1)\n",
    "tutorial1.setAMRWindInput('incflo.physics', ['FreeStream', 'Actuator'])"
   ]
  },
  {
   "cell_type": "markdown",
   "metadata": {
    "deletable": true,
    "editable": true
   },
   "source": [
    "Note that the values of any of these inputs can be queried through the `getAMRWindInput()` command:"
   ]
  },
  {
   "cell_type": "code",
   "execution_count": 5,
   "metadata": {
    "collapsed": false,
    "deletable": true,
    "editable": true
   },
   "outputs": [
    {
     "name": "stdout",
     "output_type": "stream",
     "text": [
      "100.0\n"
     ]
    }
   ],
   "source": [
    "# Get the current value of time.stop_time\n",
    "print(tutorial1.getAMRWindInput('time.stop_time'))"
   ]
  },
  {
   "cell_type": "markdown",
   "metadata": {
    "deletable": true,
    "editable": true
   },
   "source": [
    "Now we'll set some other fluid properties and velocities:"
   ]
  },
  {
   "cell_type": "code",
   "execution_count": 6,
   "metadata": {
    "collapsed": false,
    "deletable": true,
    "editable": true
   },
   "outputs": [],
   "source": [
    "tutorial1.setAMRWindInput('ConstValue.density.value',  1.0)\n",
    "tutorial1.setAMRWindInput('ConstValue.velocity.value', [10.0,0.0,0.0])\n",
    "tutorial1.setAMRWindInput('turbulence.model',  ['Laminar'])"
   ]
  },
  {
   "cell_type": "markdown",
   "metadata": {
    "deletable": true,
    "editable": true
   },
   "source": [
    "### Set the domain and boundary conditions\n",
    "\n",
    "The domain sizes and mesh counts can be set similarly:"
   ]
  },
  {
   "cell_type": "code",
   "execution_count": 7,
   "metadata": {
    "collapsed": true,
    "deletable": true,
    "editable": true
   },
   "outputs": [],
   "source": [
    "tutorial1.setAMRWindInput('geometry.prob_lo', [-1000, -500, -500])\n",
    "tutorial1.setAMRWindInput('geometry.prob_hi', [ 1000,  500,  500])\n",
    "tutorial1.setAMRWindInput('amr.n_cell',       [ 128, 64, 64])"
   ]
  },
  {
   "cell_type": "markdown",
   "metadata": {
    "deletable": true,
    "editable": true
   },
   "source": [
    "To set the Y and Z sides of the domain to be periodic (and X not periodic), use"
   ]
  },
  {
   "cell_type": "code",
   "execution_count": 8,
   "metadata": {
    "collapsed": false,
    "deletable": true,
    "editable": true
   },
   "outputs": [],
   "source": [
    "tutorial1.setAMRWindInput('is_periodicx', False)\n",
    "tutorial1.setAMRWindInput('is_periodicy', True)\n",
    "tutorial1.setAMRWindInput('is_periodicz', True)"
   ]
  },
  {
   "cell_type": "markdown",
   "metadata": {
    "deletable": true,
    "editable": true
   },
   "source": [
    "Note that for the periodicity settings, we're not using the `geometry.is_periodic` parameter.  Instead, we use the `amrwind_frontend` internal parameters called `is_periodicx`, `is_periodicy`, and `is_periodicz`, which are booleans.\n",
    "\n",
    "The x inflow and x outflow boundary conditions can be applied as normal:"
   ]
  },
  {
   "cell_type": "code",
   "execution_count": 9,
   "metadata": {
    "collapsed": true,
    "deletable": true,
    "editable": true
   },
   "outputs": [],
   "source": [
    "tutorial1.setAMRWindInput('xlo.type', 'mass_inflow')\n",
    "tutorial1.setAMRWindInput('xhi.type', 'pressure_outflow')\n",
    "tutorial1.setAMRWindInput('xlo.density', 1.0)\n",
    "tutorial1.setAMRWindInput('xlo.velocity', [10.0, 0.0, 0.0])"
   ]
  },
  {
   "cell_type": "markdown",
   "metadata": {
    "deletable": true,
    "editable": true
   },
   "source": [
    "Finally the wind speed through the domain can be set through"
   ]
  },
  {
   "cell_type": "code",
   "execution_count": 10,
   "metadata": {
    "collapsed": true,
    "deletable": true,
    "editable": true
   },
   "outputs": [],
   "source": [
    "tutorial1.setAMRWindInput('incflo.velocity', [10.0, 0.0, 0.0])"
   ]
  },
  {
   "cell_type": "markdown",
   "metadata": {
    "deletable": true,
    "editable": true
   },
   "source": [
    "### Plot the domain\n",
    "\n",
    "We can now see what the domain and wind direction look like by creating a plot of it.  To do this, we use the `plotDomain()` command.  Note that the `ax` axes parameter should be set, otherwise it tries to open up the GUI window to make the plot."
   ]
  },
  {
   "cell_type": "code",
   "execution_count": 11,
   "metadata": {
    "collapsed": false,
    "deletable": true,
    "editable": true
   },
   "outputs": [
    {
     "data": {
      "image/png": "[encoded data removed]",
      "text/plain": [
       "<matplotlib.figure.Figure at 0x7fffb26f4a10>"
      ]
     },
     "metadata": {},
     "output_type": "display_data"
    }
   ],
   "source": [
    "# Plot the domain\n",
    "plt.rc('font', size=14)\n",
    "fig, ax = plt.subplots(figsize=(10,10), facecolor='w')\n",
    "tutorial1.plotDomain(ax=ax)"
   ]
  },
  {
   "cell_type": "markdown",
   "metadata": {
    "deletable": true,
    "editable": true
   },
   "source": [
    "### Adding a turbine\n",
    "\n",
    "To add a working turbine to the simulation, we first must include the `AcuatorForcing` term to the `ICNS.source_terms` parameter:"
   ]
  },
  {
   "cell_type": "code",
   "execution_count": 12,
   "metadata": {
    "collapsed": true,
    "deletable": true,
    "editable": true
   },
   "outputs": [],
   "source": [
    "tutorial1.setAMRWindInput('ICNS.source_terms', ['ActuatorForcing'])"
   ]
  },
  {
   "cell_type": "markdown",
   "metadata": {
    "deletable": true,
    "editable": true
   },
   "source": [
    "The way the turbines get added is by defining a dictionary which contains all necessary properties for the turbine.  Here we'll get the default dictionary, then start modifying properties about it."
   ]
  },
  {
   "cell_type": "code",
   "execution_count": 13,
   "metadata": {
    "collapsed": false,
    "deletable": true,
    "editable": true
   },
   "outputs": [
    {
     "name": "stdout",
     "output_type": "stream",
     "text": [
      "Actuator_name: 'turbine0'\n",
      "use_turbine_type: ''\n",
      "copy_turb_files: 1\n",
      "edit_fast_files: 1\n",
      "Actuator_type: None\n",
      "Actuator_openfast_input_file: None\n",
      "Actuator_base_position: [0, 0, -90]\n",
      "Actuator_rotor_diameter: None\n",
      "Actuator_hub_height: None\n",
      "Actuator_num_points_blade: None\n",
      "Actuator_num_points_tower: None\n",
      "Actuator_epsilon: None\n",
      "Actuator_epsilon_tower: None\n",
      "Actuator_openfast_start_time: None\n",
      "Actuator_openfast_stop_time: None\n",
      "Actuator_nacelle_drag_coeff: None\n",
      "Actuator_nacelle_area: None\n",
      "Actuator_yaw: 270.0\n",
      "Actuator_output_frequency: None\n",
      "Actuator_density: 1.0\n"
     ]
    }
   ],
   "source": [
    "# Get a copy the default dictionary which defines AMR-Wind turbines\n",
    "turbine = tutorial1.get_default_actuatordict()\n",
    "\n",
    "# Set some basic properties of the turbine, like the name and position\n",
    "turbine['Actuator_name']          = 'turbine0'\n",
    "turbine['Actuator_base_position'] = [0, 0, -90]\n",
    "turbine['Actuator_yaw']           = 270.0\n",
    "turbine['Actuator_density']       = 1.0\n",
    "\n",
    "# Print out the dictionary\n",
    "for k, g in turbine.items(): print('%s: %s'%(k, repr(g)))"
   ]
  },
  {
   "cell_type": "markdown",
   "metadata": {
    "deletable": true,
    "editable": true
   },
   "source": [
    "However, there are still a lot of properties which are undefined for the turbine.  Rather than specifying each one individually, we can copy over the parameters from one of the previously defined turbines.  In this case, we'll use the `NREL5MW ADM NOSERVO` turbine.  This can be done with the `turbinemodels_applyturbinemodel()` function.\n",
    "\n",
    "Note that both the `docopy` and `updatefast` parameters are set to `True`.  `docopy` creates a copy of the necessary OpenFAST files needed to run the turbine, and puts it into a new directory based on the turbine name.  `updatefast` will modify any `OpenFAST` files so that the settings in `OpenFAST` are consistent with `AMR-Wind`.\n",
    "\n",
    "Finally, the turbine is added to the simulation with `add_turbine()`."
   ]
  },
  {
   "cell_type": "code",
   "execution_count": 14,
   "metadata": {
    "collapsed": false,
    "deletable": true,
    "editable": true
   },
   "outputs": [
    {
     "name": "stdout",
     "output_type": "stream",
     "text": [
      "docopy = True from /projects/wind_uq/lcheung/amrwind-frontend/turbines/OpenFAST_NREL5MW to turbine0_OpenFAST_NREL5MW\n",
      "turbine0_OpenFAST_NREL5MW/nrel5mw_noservo.fst\n",
      "/gpfs1/lcheung/TCF/TurbineCheckout/test/tutorial1run/turbine0_OpenFAST_NREL5MW/./5MW_Baseline/NRELOffshrBsline5MW_Onshore_AeroDyn15.dat\n",
      "Actuator_name: 'turbine0'\n",
      "use_turbine_type: ''\n",
      "copy_turb_files: 1\n",
      "edit_fast_files: 1\n",
      "Actuator_type: 'TurbineFastDisk'\n",
      "Actuator_openfast_input_file: 'turbine0_OpenFAST_NREL5MW/nrel5mw_noservo.fst'\n",
      "Actuator_base_position: [0, 0, -90]\n",
      "Actuator_rotor_diameter: 126.0\n",
      "Actuator_hub_height: 90.0\n",
      "Actuator_num_points_blade: 64\n",
      "Actuator_num_points_tower: 12\n",
      "Actuator_epsilon: [10.0, 10.0, 10.0]\n",
      "Actuator_epsilon_tower: [5.0, 5.0, 5.0]\n",
      "Actuator_openfast_start_time: 0.0\n",
      "Actuator_openfast_stop_time: 1000.0\n",
      "Actuator_nacelle_drag_coeff: 0.0\n",
      "Actuator_nacelle_area: 0.0\n",
      "Actuator_yaw: 270.0\n",
      "Actuator_output_frequency: 10\n",
      "Actuator_density: 1.0\n"
     ]
    },
    {
     "name": "stderr",
     "output_type": "stream",
     "text": [
      "       1.0 AirDens - Air density (kg/m^3) [EDITED]\n"
     ]
    }
   ],
   "source": [
    "turbine = tutorial1.turbinemodels_applyturbinemodel(turbine, 'NREL5MW ADM NOSERVO', docopy=True, updatefast=True)\n",
    "\n",
    "# Add the turbine to the simulation.\n",
    "tutorial1.add_turbine(turbine, verbose=True)"
   ]
  },
  {
   "cell_type": "markdown",
   "metadata": {
    "deletable": true,
    "editable": true
   },
   "source": [
    "### Adding a refinement window\n",
    "\n",
    "Refinement windows can be added in a similar fashion as turbines.  First we'll set `AMR-Wind` to use 1 level of refinement."
   ]
  },
  {
   "cell_type": "code",
   "execution_count": 15,
   "metadata": {
    "collapsed": true,
    "deletable": true,
    "editable": true
   },
   "outputs": [],
   "source": [
    "tutorial1.setAMRWindInput('amr.max_level', 1)"
   ]
  },
  {
   "cell_type": "markdown",
   "metadata": {
    "deletable": true,
    "editable": true
   },
   "source": [
    "Then we'll get the default dictionary for refinement windows, and modify it to suit our purposes.  In this example, we're creating a box refinement zone with specified coordinates.  Finally, we'll add it to the simulation with the `add_tagging()` function."
   ]
  },
  {
   "cell_type": "code",
   "execution_count": 16,
   "metadata": {
    "collapsed": false,
    "deletable": true,
    "editable": true
   },
   "outputs": [],
   "source": [
    "# Get the default dictionary for refinement window\n",
    "refinewin = tutorial1.get_default_taggingdict()\n",
    "\n",
    "# Edit the parameters of the refinement window\n",
    "refinewin['tagging_name']         = 'box1'\n",
    "refinewin['tagging_shapes']       = 'box1'\n",
    "refinewin['tagging_type']         = 'GeometryRefinement'\n",
    "refinewin['tagging_level']        = 0\n",
    "refinewin['tagging_geom_type']    = 'box'\n",
    "refinewin['tagging_geom_origin']  = [-200, -200, -200]\n",
    "refinewin['tagging_geom_xaxis']   = [400, 0, 0]\n",
    "refinewin['tagging_geom_yaxis']   = [0, 400, 0]\n",
    "refinewin['tagging_geom_zaxis']   = [0, 0, 400]\n",
    "\n",
    "# Add refinement zone to simulation.\n",
    "tutorial1.add_tagging(refinewin)"
   ]
  },
  {
   "cell_type": "markdown",
   "metadata": {
    "deletable": true,
    "editable": true
   },
   "source": [
    "### Adding a sampling plane\n",
    "\n",
    "We'll follow the same process for adding in a sampling plane.  First, we need to tell AMR-Wind to add sampling functionality to the simulation and tell it to sample velocity fields every 100 iterations:"
   ]
  },
  {
   "cell_type": "code",
   "execution_count": 17,
   "metadata": {
    "collapsed": true,
    "deletable": true,
    "editable": true
   },
   "outputs": [],
   "source": [
    "tutorial1.setAMRWindInput('incflo.post_processing',    ['sampling'])\n",
    "tutorial1.setAMRWindInput('sampling.output_frequency', 100)\n",
    "tutorial1.setAMRWindInput('sampling.fields',           ['velocity'])"
   ]
  },
  {
   "cell_type": "markdown",
   "metadata": {
    "deletable": true,
    "editable": true
   },
   "source": [
    "Now we'll create the sampling plane by getting a default sampling probe dictionary and then modifying it.  In this case, we're creating a single sampling plane at hub-height, with specified origin and dimensions."
   ]
  },
  {
   "cell_type": "code",
   "execution_count": 18,
   "metadata": {
    "collapsed": false,
    "deletable": true,
    "editable": true
   },
   "outputs": [
    {
     "name": "stdout",
     "output_type": "stream",
     "text": [
      "default_alwaysfalse: False\n",
      "sampling_name: 'xyplane'\n",
      "sampling_type: 'PlaneSampler'\n",
      "sampling_pf_probe_location_file: None\n",
      "sampling_l_num_points: 2\n",
      "line_probe_xyzheader: ['X', 'Y', 'Z']\n",
      "sampling_l_start: [0, 0, 0]\n",
      "sampling_l_end: [1, 1, 1]\n",
      "sampling_p_num_points: [101, 51]\n",
      "sample_plane_xyzheader: ['X', 'Y', 'Z']\n",
      "sampling_p_origin: [-1000, -500, 0]\n",
      "sampling_p_axis1: [2000, 0, 0]\n",
      "sampling_p_axis2: [0, 1000, 0]\n",
      "sampling_p_normal: [0, 0, 0]\n",
      "sampling_p_offsets: None\n"
     ]
    }
   ],
   "source": [
    "# Get the default dictionary for sampling probes\n",
    "sampleplane = tutorial1.get_default_samplingdict()\n",
    "\n",
    "# Modify the geometry\n",
    "sampleplane['sampling_name'] = 'xyplane'\n",
    "sampleplane['sampling_type'] = 'PlaneSampler'\n",
    "sampleplane['sampling_p_num_points'] = [101, 51]\n",
    "sampleplane['sampling_p_origin']     = [-1000, -500, 0]\n",
    "sampleplane['sampling_p_axis1']      = [2000, 0, 0]\n",
    "sampleplane['sampling_p_axis2']      = [0, 1000, 0]\n",
    "\n",
    "# Add sampling plane to simuation\n",
    "tutorial1.add_sampling(sampleplane, verbose=True)"
   ]
  },
  {
   "cell_type": "markdown",
   "metadata": {
    "deletable": true,
    "editable": true
   },
   "source": [
    "### Plotting the domain again\n",
    "\n",
    "We can now re-plot the domain, but this time include the turbine, refinement window, and sampling plane.  Again, we'll use the `plotDomain()` function, but this time we'll add the additional features to plot through the `popup_storteddata['plotdomain']` option:"
   ]
  },
  {
   "cell_type": "code",
   "execution_count": 19,
   "metadata": {
    "collapsed": false,
    "deletable": true,
    "editable": true
   },
   "outputs": [
    {
     "name": "stdout",
     "output_type": "stream",
     "text": [
      "Plotting turbines\n"
     ]
    },
    {
     "data": {
      "image/png": "[encoded data removed]",
      "text/plain": [
       "<matplotlib.figure.Figure at 0x7fffb26f4b50>"
      ]
     },
     "metadata": {},
     "output_type": "display_data"
    }
   ],
   "source": [
    "# Create a figure and axes to plot domain\n",
    "plt.rc('font', size=14)\n",
    "fig, ax = plt.subplots(figsize=(10,10), facecolor='w')\n",
    "\n",
    "# Set additional items to plot\n",
    "tutorial1.popup_storteddata['plotdomain']['plot_sampleprobes']    = ['xyplane']\n",
    "tutorial1.popup_storteddata['plotdomain']['plot_turbines']        = ['turbine0']\n",
    "tutorial1.popup_storteddata['plotdomain']['plot_refineboxes']     = ['box1']\n",
    "\n",
    "# Plot the figure \n",
    "tutorial1.plotDomain(ax=ax)"
   ]
  },
  {
   "cell_type": "markdown",
   "metadata": {
    "deletable": true,
    "editable": true
   },
   "source": [
    "### Validating inputs\n",
    "\n",
    "Before running this case, we can check that the inputs have been set up correctly.  Use the `validate()` function, and hopefully the output shows that all things passed, with no failures or warnings."
   ]
  },
  {
   "cell_type": "code",
   "execution_count": 20,
   "metadata": {
    "collapsed": false,
    "deletable": true,
    "editable": true
   },
   "outputs": [
    {
     "name": "stdout",
     "output_type": "stream",
     "text": [
      "-- Checking inputs --\n",
      "[ PASS] max_level:           max_level = 1 >= 0\n",
      "[ PASS] Actuator physics:    incflo.physics and ICNS.source_terms OK for Actuators\n",
      "[ PASS] Actuator FST:turbine0 [turbine0_OpenFAST_NREL5MW/nrel5mw_noservo.fst] exists\n",
      "[ PASS] Actuator FST:turbine0 CompInflow OK\n",
      "[ PASS] Actuator FST:turbine0 [turbine0_OpenFAST_NREL5MW/./5MW_Baseline/NRELOffshrBsline5MW_Onshore_AeroDyn15.dat] exists\n",
      "[ PASS] Actuator FST:turbine0 WakeMod=0 OK\n",
      "[ PASS] Actuator FST:turbine0 AirDens=1.000000, matches incflo.density=1.000000\n",
      "[ PASS] Sampling probes:xyplane \n",
      "\n",
      "Results: \n",
      " 8 PASS\n",
      " 0 SKIP\n",
      " 0 FAIL\n",
      " 0 WARN\n"
     ]
    }
   ],
   "source": [
    "# Validate the inputs\n",
    "checkoutput=tutorial1.validate()"
   ]
  },
  {
   "cell_type": "markdown",
   "metadata": {
    "deletable": true,
    "editable": true
   },
   "source": [
    "### Saving the input file\n",
    "\n",
    "Finally, all of these parameters can be saved into an input file through the `writeAMRWindInput()` function.  However, first we'll take a look at what the input file will look like by passing in the null string `''` and printing it to the screen:"
   ]
  },
  {
   "cell_type": "code",
   "execution_count": 21,
   "metadata": {
    "collapsed": false,
    "deletable": true,
    "editable": true
   },
   "outputs": [
    {
     "name": "stdout",
     "output_type": "stream",
     "text": [
      "# --- Simulation time control parameters ---\n",
      "time.stop_time                           = 100.0               # Max (simulated) time to evolve [s]\n",
      "time.max_step                            = -1                  \n",
      "time.fixed_dt                            = 0.1                 # Fixed timestep size (in seconds). If negative, then time.cfl is used\n",
      "incflo.physics                           = FreeStream Actuator # List of physics models to include in simulation.\n",
      "incflo.verbose                           = 0                   \n",
      "io.check_file                            = chk                 \n",
      "incflo.use_godunov                       = true                \n",
      "incflo.godunov_type                      = ppm                 \n",
      "turbulence.model                         = Laminar             \n",
      "incflo.gravity                           = 0.0 0.0 -9.81       # Gravitational acceleration vector (x,y,z) [m/s^2]\n",
      "incflo.density                           = 1.0                 # Fluid density [kg/m^3]\n",
      "transport.viscosity                      = 1.872e-05           # Fluid dynamic viscosity [kg/m-s]\n",
      "transport.laminar_prandtl                = 0.7                 # Laminar prandtl number\n",
      "transport.turbulent_prandtl              = 0.3333              # Turbulent prandtl number\n",
      "ConstValue.density.value                 = 1.0                 \n",
      "ConstValue.velocity.value                = 10.0 0.0 0.0        \n",
      "\n",
      "# --- Geometry and Mesh ---\n",
      "geometry.prob_lo                         = -1000.0 -500.0 -500.0\n",
      "geometry.prob_hi                         = 1000.0 500.0 500.0  \n",
      "amr.n_cell                               = 128 64 64           # Number of cells in x, y, and z directions\n",
      "amr.max_level                            = 1                   \n",
      "geometry.is_periodic                     = 0 1 1               \n",
      "xlo.type                                 = mass_inflow         \n",
      "xlo.density                              = 1.0                 \n",
      "xlo.velocity                             = 10.0 0.0 0.0        \n",
      "xhi.type                                 = pressure_outflow    \n",
      "\n",
      "# --- ABL parameters ---\n",
      "ICNS.source_terms                        =    ActuatorForcing  \n",
      "incflo.velocity                          = 10.0 0.0 0.0        \n",
      "ABLForcing.abl_forcing_height            = 0.0                 \n",
      "time.plot_interval                       = 1000                \n",
      "io.plot_file                             = plt                 \n",
      "io.KE_int                                = -1                  \n",
      "incflo.post_processing                   = sampling            \n",
      "\n",
      "# --- Sampling parameters ---\n",
      "sampling.output_frequency                = 100                 \n",
      "sampling.fields                          = velocity            \n",
      "\n",
      "#---- sample defs ----\n",
      "sampling.labels                          = xyplane             \n",
      "sampling.xyplane.type                    = PlaneSampler        \n",
      "sampling.xyplane.num_points              = 101 51              \n",
      "sampling.xyplane.origin                  = -1000.0 -500.0 0.0  \n",
      "sampling.xyplane.axis1                   = 2000.0 0.0 0.0      \n",
      "sampling.xyplane.axis2                   = 0.0 1000.0 0.0      \n",
      "sampling.xyplane.normal                  = 0.0 0.0 0.0         \n",
      "\n",
      "#---- tagging defs ----\n",
      "tagging.labels                           = box1                \n",
      "tagging.box1.type                        = GeometryRefinement  \n",
      "tagging.box1.shapes                      = box1                \n",
      "tagging.box1.level                       = 0                   \n",
      "tagging.box1.box1.type                   = box                 \n",
      "tagging.box1.box1.origin                 = -200.0 -200.0 -200.0\n",
      "tagging.box1.box1.xaxis                  = 400.0 0.0 0.0       \n",
      "tagging.box1.box1.yaxis                  = 0.0 400.0 0.0       \n",
      "tagging.box1.box1.zaxis                  = 0.0 0.0 400.0       \n",
      "\n",
      "#---- actuator defs ----\n",
      "Actuator.labels                          = turbine0            \n",
      "Actuator.turbine0.type                   = TurbineFastDisk     \n",
      "Actuator.turbine0.openfast_input_file    = turbine0_OpenFAST_NREL5MW/nrel5mw_noservo.fst\n",
      "Actuator.turbine0.base_position          = 0.0 0.0 -90.0       \n",
      "Actuator.turbine0.rotor_diameter         = 126.0               \n",
      "Actuator.turbine0.hub_height             = 90.0                \n",
      "Actuator.turbine0.num_points_blade       = 64                  \n",
      "Actuator.turbine0.num_points_tower       = 12                  \n",
      "Actuator.turbine0.epsilon                = 10.0 10.0 10.0      \n",
      "Actuator.turbine0.epsilon_tower          = 5.0 5.0 5.0         \n",
      "Actuator.turbine0.openfast_start_time    = 0.0                 \n",
      "Actuator.turbine0.openfast_stop_time     = 1000.0              \n",
      "Actuator.turbine0.nacelle_drag_coeff     = 0.0                 \n",
      "Actuator.turbine0.nacelle_area           = 0.0                 \n",
      "Actuator.turbine0.yaw                    = 270.0               \n",
      "Actuator.turbine0.output_frequency       = 10                  \n",
      "Actuator.turbine0.density                = 1.0                 \n",
      "\n",
      "#---- extra params ----\n",
      "#== END AMR-WIND INPUT ==\n",
      "\n"
     ]
    }
   ],
   "source": [
    "outstr=tutorial1.writeAMRWindInput('')\n",
    "print(outstr)"
   ]
  },
  {
   "cell_type": "markdown",
   "metadata": {
    "deletable": true,
    "editable": true
   },
   "source": [
    "Then we'll actually write it to a file by specifying the filename `tutorial1.inp` (this can be anything):"
   ]
  },
  {
   "cell_type": "code",
   "execution_count": 22,
   "metadata": {
    "collapsed": false,
    "deletable": true,
    "editable": true
   },
   "outputs": [],
   "source": [
    "outstr=tutorial1.writeAMRWindInput('tutorial1.inp')"
   ]
  },
  {
   "cell_type": "markdown",
   "metadata": {
    "deletable": true,
    "editable": true
   },
   "source": [
    "That's it!  Now we are ready to run the case."
   ]
  },
  {
   "cell_type": "markdown",
   "metadata": {
    "deletable": true,
    "editable": true
   },
   "source": [
    "## Submitting the job\n",
    "We can also have `amrwind_frontend` create a submission script and submit it to the queue.  To do this, edit the `submitscript` dictionary like this:"
   ]
  },
  {
   "cell_type": "code",
   "execution_count": 23,
   "metadata": {
    "collapsed": false,
    "deletable": true,
    "editable": true
   },
   "outputs": [],
   "source": [
    "# Set some of the submission script parameters\n",
    "tutorial1.popup_storteddata['submitscript']['submitscript_filename'] = 'submit.sh'\n",
    "tutorial1.popup_storteddata['submitscript']['submitscript_jobname']  = 'amrwind_test1'\n",
    "tutorial1.popup_storteddata['submitscript']['submitscript_numnodes'] = 2\n",
    "tutorial1.popup_storteddata['submitscript']['submitscript_runtime']  = '1:00:00'\n",
    "tutorial1.popup_storteddata['submitscript']['submitscript_wcid']     = 'FY190020'"
   ]
  },
  {
   "cell_type": "markdown",
   "metadata": {
    "deletable": true,
    "editable": true
   },
   "source": [
    "To print out what the submission script would look like use `submitscript_makescript()`.  Note that the argument is the AMR-Wind input filename (`savefile` is the filename that was set in `writeAMRWindInput()` above)."
   ]
  },
  {
   "cell_type": "code",
   "execution_count": null,
   "metadata": {
    "collapsed": false,
    "deletable": true,
    "editable": true
   },
   "outputs": [],
   "source": [
    "# Preview what the submission script looks like\n",
    "print(tutorial1.submitscript_makescript(tutorial1.savefile))"
   ]
  },
  {
   "cell_type": "markdown",
   "metadata": {
    "deletable": true,
    "editable": true
   },
   "source": [
    "To save the job, use `submitscript_savescript()`.  Add the keyword `submit=True` to actually submit the job to the queue:"
   ]
  },
  {
   "cell_type": "code",
   "execution_count": 24,
   "metadata": {
    "collapsed": false,
    "deletable": true,
    "editable": true
   },
   "outputs": [
    {
     "name": "stdout",
     "output_type": "stream",
     "text": [
      "Saved submit.sh\n",
      "Executing: sbatch submit.sh\n",
      "sbatch: INFO: Adding filesystem licenses to job: gpfs1:1,nscratch:1,pscratch:1\n",
      "Submitted batch job 24558098\n",
      "\n"
     ]
    }
   ],
   "source": [
    "tutorial1.submitscript_savescript(submit=True)"
   ]
  },
  {
   "cell_type": "markdown",
   "metadata": {
    "deletable": true,
    "editable": true
   },
   "source": [
    "## Postprocessing\n",
    "### Plotting the FAST outputs\n",
    "\n",
    "First, let's load the FAST output file and see what data is in there."
   ]
  },
  {
   "cell_type": "code",
   "execution_count": 25,
   "metadata": {
    "collapsed": false,
    "deletable": true,
    "editable": true
   },
   "outputs": [
    {
     "name": "stdout",
     "output_type": "stream",
     "text": [
      "Loading turbine0_OpenFAST_NREL5MW/nrel5mw_noservo.out\n"
     ]
    }
   ],
   "source": [
    "# Load the FAST output file\n",
    "headers=tutorial1.FAST_loadallfiles(None, outfile='turbine0_OpenFAST_NREL5MW/nrel5mw_noservo.out')"
   ]
  },
  {
   "cell_type": "markdown",
   "metadata": {
    "deletable": true,
    "editable": true
   },
   "source": [
    "There's a lot of variables we could plot in that file, let's take a look at the first 10:"
   ]
  },
  {
   "cell_type": "code",
   "execution_count": 26,
   "metadata": {
    "collapsed": false,
    "deletable": true,
    "editable": true
   },
   "outputs": [
    {
     "name": "stdout",
     "output_type": "stream",
     "text": [
      "['Time', 'Wind1VelX', 'Wind1VelY', 'Wind1VelZ', 'OoPDefl1', 'IPDefl1', 'TwstDefl1', 'BldPitch1', 'Azimuth', 'RotSpeed']\n"
     ]
    }
   ],
   "source": [
    "print(headers[:10])"
   ]
  },
  {
   "cell_type": "markdown",
   "metadata": {
    "deletable": true,
    "editable": true
   },
   "source": [
    "Let's choose to plot the `Wind1VelX` variable"
   ]
  },
  {
   "cell_type": "code",
   "execution_count": 27,
   "metadata": {
    "collapsed": true,
    "deletable": true,
    "editable": true
   },
   "outputs": [],
   "source": [
    "tutorial1.popup_storteddata['plotfastout']['plotfastout_vars']     = ['Wind1VelX']"
   ]
  },
  {
   "cell_type": "code",
   "execution_count": 28,
   "metadata": {
    "collapsed": false,
    "deletable": true,
    "editable": true
   },
   "outputs": [
    {
     "data": {
      "image/png": "[encoded data removed]",
      "text/plain": [
       "<matplotlib.figure.Figure at 0x7fffb251ded0>"
      ]
     },
     "metadata": {},
     "output_type": "display_data"
    }
   ],
   "source": [
    "# Create a plot and plot it.\n",
    "plt.rc('font', size=14)\n",
    "fig, ax = plt.subplots(figsize=(10,10), facecolor='w')\n",
    "tutorial1.FAST_plotoutputs(ax=ax)"
   ]
  },
  {
   "cell_type": "markdown",
   "metadata": {
    "deletable": true,
    "editable": true
   },
   "source": [
    "### Plotting the sample plane\n",
    "After the job is completed, we can also examine the flow fields through the python interface"
   ]
  },
  {
   "cell_type": "code",
   "execution_count": 29,
   "metadata": {
    "collapsed": false,
    "deletable": true,
    "editable": true
   },
   "outputs": [
    {
     "name": "stdout",
     "output_type": "stream",
     "text": [
      "Loading post_processing/sampling00000.nc\n"
     ]
    }
   ],
   "source": [
    "tutorial1.Samplepostpro_loadnetcdffile('post_processing/sampling00000.nc')"
   ]
  },
  {
   "cell_type": "code",
   "execution_count": 30,
   "metadata": {
    "collapsed": false,
    "deletable": true,
    "editable": true
   },
   "outputs": [
    {
     "data": {
      "image/png": "[encoded data removed]",
      "text/plain": [
       "<matplotlib.figure.Figure at 0x7fffb24cfd50>"
      ]
     },
     "metadata": {},
     "output_type": "display_data"
    }
   ],
   "source": [
    "# Load the libraries\n",
    "import numpy as np\n",
    "from matplotlib import cm\n",
    "\n",
    "# Create the figure with 2 subplots (one for image, one for colorbar)\n",
    "fig, (ax1, ax2) = plt.subplots(1,2, figsize=(10,5), gridspec_kw={'width_ratios': [1,  0.05]}, dpi=150)\n",
    "\n",
    "# Set the plot parameters\n",
    "levels     = np.linspace(0,12,41)\n",
    "plotvar    = 'velocityx'  # Plot the velocityx variable\n",
    "plotindex  = 10           # Plot the 10th step in netcdf file (corresponding to time 100.0)\n",
    "planei     = 0            # Plot the 0th plane (the only one in this instance)\n",
    "# Create the image\n",
    "im1 = tutorial1.plotSamplePlane('xyplane', plotvar, plotindex, planei, 'X','Y',ax=ax1, colorbar=False, \n",
    "                                levels=levels, cmap=cm.jet)\n",
    "fig.colorbar(im1[0], cax=ax2)\n",
    "ax1.set_xlim([-750, 750]);"
   ]
  },
  {
   "cell_type": "code",
   "execution_count": null,
   "metadata": {
    "collapsed": true,
    "deletable": true,
    "editable": true
   },
   "outputs": [],
   "source": []
  }
 ],
 "metadata": {
  "kernelspec": {
   "display_name": "Python 2",
   "language": "python",
   "name": "python2"
  },
  "language_info": {
   "codemirror_mode": {
    "name": "ipython",
    "version": 2
   },
   "file_extension": ".py",
   "mimetype": "text/x-python",
   "name": "python",
   "nbconvert_exporter": "python",
   "pygments_lexer": "ipython2",
   "version": "2.7.13"
  }
 },
 "nbformat": 4,
 "nbformat_minor": 2
}
