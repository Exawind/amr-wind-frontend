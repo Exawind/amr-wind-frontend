{
 "cells": [
  {
   "cell_type": "markdown",
   "metadata": {},
   "source": [
    "# Tutorial 3: Setting up a farm calculation"
   ]
  },
  {
   "cell_type": "code",
   "execution_count": 1,
   "metadata": {},
   "outputs": [],
   "source": [
    "# Load the modules\n",
    "amrwindfedir = '../../'  # Location of amrwind-frontend directory\n",
    "import sys, os\n",
    "sys.path.insert(1, amrwindfedir)\n",
    "\n",
    "# Load the libraries\n",
    "import amrwind_frontend as amrwind\n",
    "import matplotlib.pyplot    as plt\n",
    "\n",
    "# Also ignore warnings\n",
    "import warnings\n",
    "warnings.filterwarnings('ignore')\n",
    "\n",
    "# Make all plots inline \n",
    "%matplotlib inline"
   ]
  },
  {
   "cell_type": "code",
   "execution_count": 2,
   "metadata": {},
   "outputs": [],
   "source": [
    "# Start the AMR-Wind case\n",
    "case = amrwind.MyApp.init_nogui()"
   ]
  },
  {
   "cell_type": "markdown",
   "metadata": {},
   "source": [
    "\n",
    "## Introduction\n",
    "\n",
    "This tutorial will demonstrate the following features: \n",
    "- How to set up a wind farm layout with multiple turbines using\n",
    "  `amrwind-frontend`.\n",
    "- How to run a parameter sweep over wind speed and wind direction, and\n",
    "  have `amrwind-frontend` generate the necessary input files for each\n",
    "  case.\n"
   ]
  },
  {
   "cell_type": "markdown",
   "metadata": {},
   "source": [
    "\n",
    "## Set some wind properties\n",
    "\n",
    "For the purposes of demonstrating how to setup a wind farm layout,\n",
    "we'll start with some arbitrary wind speed and wind direction values.\n",
    "The exact values don't really matter, as later on in the tutorial,\n",
    "we'll change these values, but for now they'll be useful when plotting\n",
    "the results.\n",
    "\n",
    "Below we'll use a wind speed of 10 m/s and wind direction of 225\n",
    "degrees.\n"
   ]
  },
  {
   "cell_type": "code",
   "execution_count": 3,
   "metadata": {},
   "outputs": [],
   "source": [
    "case.setAMRWindInput('useWSDir', True)\n",
    "case.setAMRWindInput('ABL_windspeed', 10.0, forcechange=True)\n",
    "case.setAMRWindInput('ABL_winddir', 225.0, forcechange=True)\n",
    "case.ABL_calculateWindVector()"
   ]
  },
  {
   "cell_type": "markdown",
   "metadata": {},
   "source": [
    "## Create wind farm layout and domain\n",
    "\n",
    "We'll use a CSV format to provde the turbine layout information.  This\n",
    "will generally take the form of something like \n",
    "\n",
    "```\n",
    "# CSV file should have columns with\n",
    "# name, x, y, type, yaw, hubheight, options\n",
    "T0, 500, 300, UnifCtTest, , ,\n",
    "T1, 500, 700, UnifCtTest, , ,\n",
    "```\n",
    "\n",
    "Here's what each of the columns mean:\n",
    "\n",
    "### TURBINE LAYOUT SPECIFICATIONS\n",
    "\n",
    "| column      | description                                                                       | required/optional |\n",
    "| ---         | ---                                                                               | ---               |\n",
    "| `name`      | The name of the turbine (can be arbitrary).                                       | required          |\n",
    "| `x`         | The x position of the turbine.                                                    | required          |\n",
    "| `y`         | The y position of the turbine.                                                    | required          |\n",
    "| `type`      | The turbine type (must be listed under turbine types tab)                         | required          |\n",
    "| `yaw`       | The turbine yaw heading.  If not specified, turbine points directly into the wind | optional          |\n",
    "| `hubheight` | The turbine hub-height.  If not specified, uses the default from the turbine type | optional          |\n",
    "| `options`   | Optional parameters                                                               | optional          |\n",
    "\n"
   ]
  },
  {
   "cell_type": "code",
   "execution_count": 4,
   "metadata": {},
   "outputs": [],
   "source": [
    "turbinescsv=\"\"\"\n",
    "# CSV file should have columns with\n",
    "# name, x, y, type, yaw, hubheight, options\n",
    "T0, 500, 300, UnifCtTest, , ,\n",
    "T1, 500, 700, UnifCtTest, , ,\n",
    "\"\"\"\n",
    "case.setAMRWindInput('turbines_csvtextbox',  turbinescsv)"
   ]
  },
  {
   "cell_type": "markdown",
   "metadata": {},
   "source": [
    "Note that if you already have a csv file saved somewhere, you can load that directly using the `loadTurbineCSVFile()` command, like\n",
    "```python\n",
    "case.loadTurbineCSVFile('turbines.csv')\n",
    "```\n",
    "instead of using `setAMRWindInput()` to set the variable directly.\n",
    "\n",
    "We'll also need to set some thing things like the turbine domainsize\n",
    "of `[1000, 1000, 1000]` and background mesh size of `10`m."
   ]
  },
  {
   "cell_type": "code",
   "execution_count": 5,
   "metadata": {},
   "outputs": [],
   "source": [
    "case.setAMRWindInput('turbines_domainsize', [1000.0, 1000.0, 1000.0])\n",
    "case.setAMRWindInput('turbines_backgroundmeshsize', 10.0)\n",
    "case.setAMRWindInput('turbines_deleteprev', True)"
   ]
  },
  {
   "cell_type": "markdown",
   "metadata": {},
   "source": [
    "You can preview the locations and domain size using the `turbines_previewAllTurbines() command:`"
   ]
  },
  {
   "cell_type": "code",
   "execution_count": 6,
   "metadata": {},
   "outputs": [
    {
     "data": {
      "image/png": "[encoded data removed]",
      "text/plain": [
       "<matplotlib.figure.Figure at 0x7fff8a0661d0>"
      ]
     },
     "metadata": {},
     "output_type": "display_data"
    }
   ],
   "source": [
    "# Preview the turbine layout\n",
    "fig, ax = plt.subplots(figsize=(5,5), facecolor='w', dpi=150)\n",
    "case.turbines_previewAllTurbines(ax=ax)"
   ]
  },
  {
   "cell_type": "markdown",
   "metadata": {},
   "source": [
    "In this next step, we tell it to actually create the turbines specified in the CSV input."
   ]
  },
  {
   "cell_type": "code",
   "execution_count": 7,
   "metadata": {},
   "outputs": [
    {
     "name": "stdout",
     "output_type": "stream",
     "text": [
      "['T0', 'T1']\n"
     ]
    }
   ],
   "source": [
    "case.turbines_createAllTurbines()\n",
    "\n",
    "# Print out existing list of turbines, just to confirm that the turbines got made\n",
    "print(case.listboxpopupwindict['listboxactuator'].getitemlist())"
   ]
  }
 ],
 "metadata": {},
 "nbformat": 4,
 "nbformat_minor": 2
}
