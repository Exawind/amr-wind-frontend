{
 "cells": [
  {
   "cell_type": "markdown",
   "metadata": {
    "deletable": true,
    "editable": true
   },
   "source": [
    "# GE 2.8-127 AMR-Wind turbine checkout"
   ]
  },
  {
   "cell_type": "code",
   "execution_count": 1,
   "metadata": {
    "collapsed": true,
    "deletable": true,
    "editable": true
   },
   "outputs": [],
   "source": [
    "%%capture \n",
    "\n",
    "# Important header information\n",
    "amrwindfedir = '/projects/wind_uq/lcheung/amrwind-frontend'\n",
    "import sys, os\n",
    "sys.path.insert(1, amrwindfedir)\n",
    "\n",
    "# Load the libraries\n",
    "import matplotlib.pyplot    as plt\n",
    "import amrwind_frontend as amrwind\n",
    "\n",
    "# Also ignore warnings\n",
    "import warnings\n",
    "warnings.filterwarnings('ignore')\n",
    "\n",
    "# Make all plots inline \n",
    "%matplotlib inline"
   ]
  },
  {
   "cell_type": "code",
   "execution_count": 2,
   "metadata": {
    "collapsed": true,
    "deletable": true,
    "editable": true
   },
   "outputs": [],
   "source": [
    "# Start the amrwind_frontend app \n",
    "tutorial1 = amrwind.MyApp.init_nogui()"
   ]
  },
  {
   "cell_type": "markdown",
   "metadata": {
    "deletable": true,
    "editable": true
   },
   "source": [
    "## Set up the simulation type and properties"
   ]
  },
  {
   "cell_type": "code",
   "execution_count": 3,
   "metadata": {
    "collapsed": true,
    "deletable": true,
    "editable": true
   },
   "outputs": [],
   "source": [
    "WS     = 9      # Uniform wind speed, m/s\n",
    "rotorD = 127    # Rotor diameter, m\n",
    "rotorx = 0\n",
    "rotory = 0"
   ]
  },
  {
   "cell_type": "code",
   "execution_count": 4,
   "metadata": {
    "collapsed": true,
    "deletable": true,
    "editable": true
   },
   "outputs": [],
   "source": [
    "# Create the working directory and switch to it\n",
    "workingdir='AMRWIND_ADM_NREL2p8_WS%0.1f'%WS\n",
    "try:\n",
    "    os.mkdir(workingdir)\n",
    "except:\n",
    "    pass\n",
    "os.chdir(workingdir)"
   ]
  },
  {
   "cell_type": "markdown",
   "metadata": {
    "deletable": true,
    "editable": true
   },
   "source": [
    "## Set basic AMR-Wind parameters"
   ]
  },
  {
   "cell_type": "code",
   "execution_count": 5,
   "metadata": {
    "collapsed": true,
    "deletable": true,
    "editable": true
   },
   "outputs": [],
   "source": [
    "tutorial1.setAMRWindInput('time_control',   ['const dt'])\n",
    "tutorial1.setAMRWindInput('time.stop_time', 360)\n",
    "tutorial1.setAMRWindInput('time.fixed_dt',  0.1)\n",
    "tutorial1.setAMRWindInput('incflo.physics', ['FreeStream', 'Actuator'])"
   ]
  },
  {
   "cell_type": "code",
   "execution_count": 6,
   "metadata": {
    "collapsed": false,
    "deletable": true,
    "editable": true
   },
   "outputs": [],
   "source": [
    "tutorial1.setAMRWindInput('ConstValue.density.value',  1.0)\n",
    "tutorial1.setAMRWindInput('ConstValue.velocity.value', [WS, 0.0, 0.0])\n",
    "tutorial1.setAMRWindInput('incflo.velocity',           [WS, 0.0, 0.0])\n",
    "tutorial1.setAMRWindInput('turbulence.model',          ['Laminar'])"
   ]
  },
  {
   "cell_type": "code",
   "execution_count": 7,
   "metadata": {
    "collapsed": true,
    "deletable": true,
    "editable": true
   },
   "outputs": [],
   "source": [
    "tutorial1.setAMRWindInput('geometry.prob_lo', [-2560, -960, -960])\n",
    "tutorial1.setAMRWindInput('geometry.prob_hi', [ 2560,  960,  960])\n",
    "tutorial1.setAMRWindInput('amr.n_cell',       [ 256, 96, 96])"
   ]
  },
  {
   "cell_type": "markdown",
   "metadata": {
    "deletable": true,
    "editable": true
   },
   "source": [
    "### Set the BC's"
   ]
  },
  {
   "cell_type": "code",
   "execution_count": 8,
   "metadata": {
    "collapsed": true,
    "deletable": true,
    "editable": true
   },
   "outputs": [],
   "source": [
    "tutorial1.setAMRWindInput('is_periodicx', False)\n",
    "tutorial1.setAMRWindInput('is_periodicy', True)\n",
    "tutorial1.setAMRWindInput('is_periodicz', True)"
   ]
  },
  {
   "cell_type": "code",
   "execution_count": 9,
   "metadata": {
    "collapsed": false,
    "deletable": true,
    "editable": true
   },
   "outputs": [],
   "source": [
    "tutorial1.setAMRWindInput('xlo.type', 'mass_inflow')\n",
    "tutorial1.setAMRWindInput('xhi.type', 'pressure_outflow')\n",
    "tutorial1.setAMRWindInput('xlo.density', 1.0)\n",
    "tutorial1.setAMRWindInput('xlo.velocity', [WS, 0.0, 0.0])"
   ]
  },
  {
   "cell_type": "markdown",
   "metadata": {
    "deletable": true,
    "editable": true
   },
   "source": [
    "## Plot the domain"
   ]
  },
  {
   "cell_type": "code",
   "execution_count": 10,
   "metadata": {
    "collapsed": false,
    "deletable": true,
    "editable": true
   },
   "outputs": [
    {
     "data": {
      "image/png": "[encoded data removed]",
      "text/plain": [
       "<matplotlib.figure.Figure at 0x7fffa7ea4050>"
      ]
     },
     "metadata": {},
     "output_type": "display_data"
    }
   ],
   "source": [
    "# Plot the domain\n",
    "plt.rc('font', size=14)\n",
    "fig, ax = plt.subplots(figsize=(10,10), facecolor='w')\n",
    "tutorial1.plotDomain(ax=ax)"
   ]
  },
  {
   "cell_type": "markdown",
   "metadata": {
    "deletable": true,
    "editable": true
   },
   "source": [
    "## Adding the GE 2.8-127 turbine"
   ]
  },
  {
   "cell_type": "code",
   "execution_count": 11,
   "metadata": {
    "collapsed": false,
    "deletable": true,
    "editable": true
   },
   "outputs": [
    {
     "name": "stdout",
     "output_type": "stream",
     "text": [
      "CANNOT update: ABLMeanBoussinesq use forcechange=True in setval()\n"
     ]
    }
   ],
   "source": [
    "tutorial1.setAMRWindInput('ICNS.source_terms', ['ActuatorForcing'])"
   ]
  },
  {
   "cell_type": "code",
   "execution_count": 12,
   "metadata": {
    "collapsed": true,
    "deletable": true,
    "editable": true
   },
   "outputs": [],
   "source": [
    "# Get a copy the default dictionary which defines AMR-Wind turbines\n",
    "turbine = tutorial1.get_default_actuatordict()\n",
    "\n",
    "# Set some basic properties of the turbine, like the name and position\n",
    "turbine['Actuator_name']          = 'turbine0'\n",
    "turbine['Actuator_base_position'] = [rotorx, rotory, -90]\n",
    "turbine['Actuator_yaw']           = 270.0\n",
    "turbine['Actuator_density']       = 1.0"
   ]
  },
  {
   "cell_type": "code",
   "execution_count": 13,
   "metadata": {
    "collapsed": false,
    "deletable": true,
    "editable": true
   },
   "outputs": [
    {
     "name": "stdout",
     "output_type": "stream",
     "text": [
      "docopy = True from /projects/wind_uq/lcheung/amrwind-frontend/turbines/OpenFAST_NREL2p8-127 to turbine0_OpenFAST_NREL2p8-127\n",
      "turbine0_OpenFAST_NREL2p8-127/NREL-2p8-127.fst\n",
      "/gpfs/lcheung/tmp/createdocs/amrwind-frontend/docs/casestudies/NREL_2p8_127/AMRWIND_ADM_NREL2p8_WS9.0/turbine0_OpenFAST_NREL2p8-127/NREL-2p8-127_AeroDyn15.dat\n",
      "Actuator_name: 'turbine0'\n",
      "use_turbine_type: ''\n",
      "copy_turb_files: 1\n",
      "edit_fast_files: 1\n",
      "Actuator_type: 'TurbineFastDisk'\n",
      "Actuator_openfast_input_file: 'turbine0_OpenFAST_NREL2p8-127/NREL-2p8-127.fst'\n",
      "Actuator_base_position: [0, 0, -90]\n",
      "Actuator_rotor_diameter: 127.0\n",
      "Actuator_hub_height: 90.0\n",
      "Actuator_num_points_blade: 64\n",
      "Actuator_num_points_tower: 12\n",
      "Actuator_epsilon: [3.0, 3.0, 3.0]\n",
      "Actuator_epsilon_tower: [3.0, 3.0, 3.0]\n",
      "Actuator_openfast_start_time: 0.0\n",
      "Actuator_openfast_stop_time: 1000.0\n",
      "Actuator_nacelle_drag_coeff: 0.0\n",
      "Actuator_nacelle_area: 0.0\n",
      "Actuator_yaw: 270.0\n",
      "Actuator_output_frequency: 10\n",
      "Actuator_density: 1.0\n",
      "Actuator_sample_yaw: None\n",
      "Actuator_diameters_to_sample: None\n",
      "Actuator_num_force_points: None\n",
      "Actuator_num_vel_points_r: None\n",
      "Actuator_num_vel_points_t: None\n",
      "Actuator_thrust_coeff: 'None'\n",
      "Actuator_wind_speed: 'None'\n"
     ]
    },
    {
     "name": "stderr",
     "output_type": "stream",
     "text": [
      "       1.0 AirDens - Air density (kg/m^3) [EDITED]\n"
     ]
    }
   ],
   "source": [
    "turbine = tutorial1.turbinemodels_applyturbinemodel(turbine, 'NREL 2.8-127 ADM', docopy=True, updatefast=True) \n",
    "\n",
    "turbine['Actuator_epsilon']       = [3.0, 3.0, 3.0]\n",
    "turbine['Actuator_epsilon_tower'] = [3.0, 3.0, 3.0]\n",
    "\n",
    "# Add the turbine to the simulation.\n",
    "tutorial1.add_turbine(turbine, verbose=True)"
   ]
  },
  {
   "cell_type": "code",
   "execution_count": 14,
   "metadata": {
    "collapsed": false,
    "deletable": true,
    "editable": true
   },
   "outputs": [
    {
     "name": "stdout",
     "output_type": "stream",
     "text": [
      "Actuator_name: 'turbine0'\n",
      "use_turbine_type: ''\n",
      "copy_turb_files: 1\n",
      "edit_fast_files: 1\n",
      "Actuator_type: 'TurbineFastDisk'\n",
      "Actuator_openfast_input_file: 'turbine0_OpenFAST_NREL2p8-127/NREL-2p8-127.fst'\n",
      "Actuator_base_position: [0, 0, -90]\n",
      "Actuator_rotor_diameter: 127.0\n",
      "Actuator_hub_height: 90.0\n",
      "Actuator_num_points_blade: 64\n",
      "Actuator_num_points_tower: 12\n",
      "Actuator_epsilon: [3.0, 3.0, 3.0]\n",
      "Actuator_epsilon_tower: [3.0, 3.0, 3.0]\n",
      "Actuator_openfast_start_time: 0.0\n",
      "Actuator_openfast_stop_time: 1000.0\n",
      "Actuator_nacelle_drag_coeff: 0.0\n",
      "Actuator_nacelle_area: 0.0\n",
      "Actuator_yaw: 270.0\n",
      "Actuator_output_frequency: 10\n",
      "Actuator_density: 1.0\n",
      "Actuator_sample_yaw: None\n",
      "Actuator_diameters_to_sample: None\n",
      "Actuator_num_force_points: None\n",
      "Actuator_num_vel_points_r: None\n",
      "Actuator_num_vel_points_t: None\n",
      "Actuator_thrust_coeff: 'None'\n",
      "Actuator_wind_speed: 'None'\n"
     ]
    }
   ],
   "source": [
    "# Print out the dictionary\n",
    "for k, g in turbine.items(): print('%s: %s'%(k, repr(g)))"
   ]
  },
  {
   "cell_type": "markdown",
   "metadata": {
    "deletable": true,
    "editable": true
   },
   "source": [
    "## Add refinement zones"
   ]
  },
  {
   "cell_type": "code",
   "execution_count": 15,
   "metadata": {
    "collapsed": true,
    "deletable": true,
    "editable": true
   },
   "outputs": [],
   "source": [
    "tutorial1.setAMRWindInput('amr.max_level', 3)"
   ]
  },
  {
   "cell_type": "code",
   "execution_count": 16,
   "metadata": {
    "collapsed": true,
    "deletable": true,
    "editable": true
   },
   "outputs": [],
   "source": [
    "# Get the default dictionary for refinement window\n",
    "refinewin0 = tutorial1.get_default_taggingdict()\n",
    "\n",
    "# Edit the parameters of the refinement window\n",
    "refinewin0['tagging_name']         = 'box0'\n",
    "refinewin0['tagging_shapes']       = 'box0'\n",
    "refinewin0['tagging_type']         = 'GeometryRefinement'\n",
    "refinewin0['tagging_level']        = 0\n",
    "refinewin0['tagging_geom_type']    = 'box'\n",
    "refinewin0['tagging_geom_origin']  = [rotorx-10*rotorD, rotory-2*rotorD, -2*rotorD]\n",
    "refinewin0['tagging_geom_xaxis']   = [20*rotorD, 0, 0]\n",
    "refinewin0['tagging_geom_yaxis']   = [0, 4*rotorD, 0]\n",
    "refinewin0['tagging_geom_zaxis']   = [0, 0, 4*rotorD]\n",
    "\n",
    "# Add refinement zone to simulation.\n",
    "tutorial1.add_tagging(refinewin0)"
   ]
  },
  {
   "cell_type": "code",
   "execution_count": 17,
   "metadata": {
    "collapsed": false,
    "deletable": true,
    "editable": true
   },
   "outputs": [],
   "source": [
    "# Get the default dictionary for refinement window\n",
    "refinewin1 = tutorial1.get_default_taggingdict()\n",
    "\n",
    "# Edit the parameters of the refinement window\n",
    "refinewin1['tagging_name']         = 'box1'\n",
    "refinewin1['tagging_shapes']       = 'box1'\n",
    "refinewin1['tagging_type']         = 'GeometryRefinement'\n",
    "refinewin1['tagging_level']        = 1\n",
    "refinewin1['tagging_geom_type']    = 'box'\n",
    "refinewin1['tagging_geom_origin']  = [rotorx-3*rotorD, rotory-1*rotorD, -1.2*rotorD]\n",
    "refinewin1['tagging_geom_xaxis']   = [5*rotorD, 0, 0]\n",
    "refinewin1['tagging_geom_yaxis']   = [0, 2*rotorD, 0]\n",
    "refinewin1['tagging_geom_zaxis']   = [0, 0, 2.4*rotorD]\n",
    "\n",
    "# Add refinement zone to simulation.\n",
    "tutorial1.add_tagging(refinewin1)"
   ]
  },
  {
   "cell_type": "code",
   "execution_count": 18,
   "metadata": {
    "collapsed": true,
    "deletable": true,
    "editable": true
   },
   "outputs": [],
   "source": [
    "# Get the default dictionary for refinement window\n",
    "refinewin2 = tutorial1.get_default_taggingdict()\n",
    "\n",
    "# Edit the parameters of the refinement window\n",
    "refinewin2['tagging_name']         = 'box2'\n",
    "refinewin2['tagging_shapes']       = 'box2'\n",
    "refinewin2['tagging_type']         = 'GeometryRefinement'\n",
    "refinewin2['tagging_level']        = 2\n",
    "refinewin2['tagging_geom_type']    = 'box'\n",
    "refinewin2['tagging_geom_origin']  = [rotorx-2*rotorD, rotory-0.75*rotorD, -0.8*rotorD]\n",
    "refinewin2['tagging_geom_xaxis']   = [3.25*rotorD, 0, 0]\n",
    "refinewin2['tagging_geom_yaxis']   = [0, 1.5*rotorD, 0]\n",
    "refinewin2['tagging_geom_zaxis']   = [0, 0, 1.6*rotorD]\n",
    "\n",
    "# Add refinement zone to simulation.\n",
    "tutorial1.add_tagging(refinewin2)"
   ]
  },
  {
   "cell_type": "code",
   "execution_count": 19,
   "metadata": {
    "collapsed": false,
    "deletable": true,
    "editable": true
   },
   "outputs": [
    {
     "name": "stdout",
     "output_type": "stream",
     "text": [
      "Plotting turbines\n"
     ]
    },
    {
     "data": {
      "image/png": "[encoded data removed]",
      "text/plain": [
       "<matplotlib.figure.Figure at 0x7fffa7eb1690>"
      ]
     },
     "metadata": {},
     "output_type": "display_data"
    }
   ],
   "source": [
    "# Create a figure and axes to plot domain\n",
    "plt.rc('font', size=14)\n",
    "fig, ax = plt.subplots(figsize=(10,10), facecolor='w')\n",
    "\n",
    "# Set additional items to plot\n",
    "#tutorial1.popup_storteddata['plotdomain']['plot_sampleprobes']    = ['xyplane']\n",
    "tutorial1.popup_storteddata['plotdomain']['plot_turbines']        = ['turbine0']\n",
    "tutorial1.popup_storteddata['plotdomain']['plot_refineboxes']     = ['box0','box1','box2']\n",
    "\n",
    "# Plot the figure \n",
    "tutorial1.plotDomain(ax=ax)"
   ]
  },
  {
   "cell_type": "markdown",
   "metadata": {
    "deletable": true,
    "editable": true
   },
   "source": [
    "## Add sampling planes"
   ]
  },
  {
   "cell_type": "code",
   "execution_count": 20,
   "metadata": {
    "collapsed": true,
    "deletable": true,
    "editable": true
   },
   "outputs": [],
   "source": [
    "tutorial1.setAMRWindInput('incflo.post_processing',    ['sampling'])\n",
    "tutorial1.setAMRWindInput('sampling.output_frequency', 100)\n",
    "tutorial1.setAMRWindInput('sampling.fields',           ['velocity'])"
   ]
  },
  {
   "cell_type": "code",
   "execution_count": 21,
   "metadata": {
    "collapsed": false,
    "deletable": true,
    "editable": true
   },
   "outputs": [],
   "source": [
    "# Get the default dictionary for sampling probes\n",
    "sampleplane = tutorial1.get_default_samplingdict()\n",
    "\n",
    "# Modify the geometry\n",
    "sampleplane['sampling_name'] = 'hhplane1'\n",
    "sampleplane['sampling_type'] = 'PlaneSampler'\n",
    "sampleplane['sampling_p_num_points'] = [129, 49]\n",
    "sampleplane['sampling_p_origin']     = [-2560.0, -960.0, 0.0]\n",
    "sampleplane['sampling_p_axis1']      = [5120.0, 0.0, 0.0]\n",
    "sampleplane['sampling_p_axis2']      = [0.0, 1920.0, 0.0]\n",
    "\n",
    "# Add sampling plane to simuation\n",
    "tutorial1.add_sampling(sampleplane)"
   ]
  },
  {
   "cell_type": "code",
   "execution_count": 22,
   "metadata": {
    "collapsed": false,
    "deletable": true,
    "editable": true
   },
   "outputs": [],
   "source": [
    "# Get the default dictionary for sampling probes\n",
    "sampleplane = tutorial1.get_default_samplingdict()\n",
    "\n",
    "# Modify the geometry\n",
    "sampleplane['sampling_name'] = 'hhplane2'\n",
    "sampleplane['sampling_type'] = 'PlaneSampler'\n",
    "sampleplane['sampling_p_num_points'] = [349, 117]\n",
    "sampleplane['sampling_p_origin']     = [-1160.0, -580.0, 0.0]\n",
    "sampleplane['sampling_p_axis1']      = [3480.0, 0.0, 0.0]\n",
    "sampleplane['sampling_p_axis2']      = [0.0, 1160.0, 0.0]\n",
    "\n",
    "# Add sampling plane to simuation\n",
    "tutorial1.add_sampling(sampleplane)"
   ]
  },
  {
   "cell_type": "code",
   "execution_count": 23,
   "metadata": {
    "collapsed": false,
    "deletable": true,
    "editable": true
   },
   "outputs": [],
   "source": [
    "# Get the default dictionary for sampling probes\n",
    "sampleplane = tutorial1.get_default_samplingdict()\n",
    "\n",
    "# Modify the geometry\n",
    "sampleplane['sampling_name'] = 'xzplane1'\n",
    "sampleplane['sampling_type'] = 'PlaneSampler'\n",
    "sampleplane['sampling_p_num_points'] = [349, 65]\n",
    "sampleplane['sampling_p_origin']     = [-1160.0, 0.0, -320.0]\n",
    "sampleplane['sampling_p_axis1']      = [3480.0, 0.0, 0.0]\n",
    "sampleplane['sampling_p_axis2']      = [0.0, 0.0, 640.0]\n",
    "\n",
    "# Add sampling plane to simuation\n",
    "tutorial1.add_sampling(sampleplane)"
   ]
  },
  {
   "cell_type": "code",
   "execution_count": 24,
   "metadata": {
    "collapsed": false,
    "deletable": true,
    "editable": true
   },
   "outputs": [
    {
     "name": "stdout",
     "output_type": "stream",
     "text": [
      "Plotting turbines\n"
     ]
    },
    {
     "data": {
      "image/png": "[encoded data removed]",
      "text/plain": [
       "<matplotlib.figure.Figure at 0x7fffa7e32750>"
      ]
     },
     "metadata": {},
     "output_type": "display_data"
    }
   ],
   "source": [
    "# Create a figure and axes to plot domain\n",
    "plt.rc('font', size=14)\n",
    "fig, ax = plt.subplots(figsize=(10,10), facecolor='w')\n",
    "\n",
    "# Set additional items to plot\n",
    "tutorial1.popup_storteddata['plotdomain']['plot_sampleprobes']    = ['hhplane1', 'hhplane2', 'xzplane1']\n",
    "#tutorial1.popup_storteddata['plotdomain']['plot_turbines']        = ['turbine0']\n",
    "tutorial1.popup_storteddata['plotdomain']['plot_refineboxes']     = ['box0','box1','box2']\n",
    "\n",
    "# Plot the figure \n",
    "tutorial1.plotDomain(ax=ax)"
   ]
  },
  {
   "cell_type": "code",
   "execution_count": 25,
   "metadata": {
    "collapsed": false,
    "deletable": true,
    "editable": true
   },
   "outputs": [
    {
     "name": "stdout",
     "output_type": "stream",
     "text": [
      "-- Checking inputs --\n",
      "[ PASS] max_level:           max_level = 3 >= 0\n",
      "[ PASS] dt & CFL:            DT and CFL OK\n",
      "[ PASS] Actuator physics:    incflo.physics and ICNS.source_terms OK for Actuators\n",
      "[ PASS] Actuator FST:turbine0 [turbine0_OpenFAST_NREL2p8-127/NREL-2p8-127.fst] exists\n",
      "[ PASS] Actuator FST:turbine0 CompInflow OK\n",
      "[ PASS] Actuator FST:turbine0 [turbine0_OpenFAST_NREL2p8-127/NREL-2p8-127_AeroDyn15.dat] exists\n",
      "[ PASS] Actuator FST:turbine0 WakeMod=0 OK\n",
      "[ PASS] Actuator FST:turbine0 AirDens=1.000000, matches incflo.density=1.000000\n",
      "[ PASS] Sampling probes:hhplane1 \n",
      "[ PASS] Sampling probes:hhplane2 \n",
      "[ PASS] Sampling probes:xzplane1 \n",
      "\n",
      "Results: \n",
      " 11 PASS\n",
      " 0 SKIP\n",
      " 0 FAIL\n",
      " 0 WARN\n"
     ]
    }
   ],
   "source": [
    "# Validate the inputs\n",
    "checkoutput=tutorial1.validate()"
   ]
  },
  {
   "cell_type": "code",
   "execution_count": 26,
   "metadata": {
    "collapsed": false,
    "deletable": true,
    "editable": true
   },
   "outputs": [
    {
     "name": "stdout",
     "output_type": "stream",
     "text": [
      "Refinement box0: level 1: 655482 cells\n",
      "Refinement box1: level 2: 393289 cells\n",
      "Refinement box2: level 3: 1022552 cells\n",
      "ESTIMATED MESH SIZE\n",
      "   Level       Ncells                      Cell Size\n",
      "       0      2359296             20.0 x 20.0 x 20.0\n",
      "       1       655482             10.0 x 10.0 x 10.0\n",
      "       2       393289                5.0 x 5.0 x 5.0\n",
      "       3      1022552                2.5 x 2.5 x 2.5\n",
      "  TOTAL:      4430619\n"
     ]
    }
   ],
   "source": [
    "# Estimate the mesh size of the grid\n",
    "tutorial1.estimateMeshSize()"
   ]
  },
  {
   "cell_type": "code",
   "execution_count": 27,
   "metadata": {
    "collapsed": false,
    "deletable": true,
    "editable": true,
    "scrolled": false
   },
   "outputs": [
    {
     "name": "stdout",
     "output_type": "stream",
     "text": [
      "# --- Simulation time control parameters ---\n",
      "time.stop_time                           = 360.0               # Max (simulated) time to evolve [s]\n",
      "time.max_step                            = -1                  \n",
      "time.fixed_dt                            = 0.1                 # Fixed timestep size (in seconds). If negative, then time.cfl is used\n",
      "incflo.physics                           = FreeStream Actuator # List of physics models to include in simulation.\n",
      "incflo.verbose                           = 0                   \n",
      "io.check_file                            = chk                 \n",
      "incflo.use_godunov                       = true                \n",
      "incflo.godunov_type                      = ppm                 \n",
      "turbulence.model                         = Laminar             \n",
      "incflo.gravity                           = 0.0 0.0 -9.81       # Gravitational acceleration vector (x,y,z) [m/s^2]\n",
      "incflo.density                           = 1.0                 # Fluid density [kg/m^3]\n",
      "transport.viscosity                      = 1.872e-05           # Fluid dynamic viscosity [kg/m-s]\n",
      "transport.laminar_prandtl                = 0.7                 # Laminar prandtl number\n",
      "transport.turbulent_prandtl              = 0.3333              # Turbulent prandtl number\n",
      "ConstValue.density.value                 = 1.0                 \n",
      "ConstValue.velocity.value                = 9.0 0.0 0.0         \n",
      "\n",
      "# --- Geometry and Mesh ---\n",
      "geometry.prob_lo                         = -2560.0 -960.0 -960.0\n",
      "geometry.prob_hi                         = 2560.0 960.0 960.0  \n",
      "amr.n_cell                               = 256 96 96           # Number of cells in x, y, and z directions\n",
      "amr.max_level                            = 3                   \n",
      "geometry.is_periodic                     = 0 1 1               \n",
      "xlo.type                                 = mass_inflow         \n",
      "xlo.density                              = 1.0                 \n",
      "xlo.velocity                             = 9.0 0.0 0.0         \n",
      "xhi.type                                 = pressure_outflow    \n",
      "\n",
      "# --- ABL parameters ---\n",
      "ICNS.source_terms                        =    ActuatorForcing  \n",
      "incflo.velocity                          = 9.0 0.0 0.0         \n",
      "ABLForcing.abl_forcing_height            = 0.0                 \n",
      "time.plot_interval                       = 1000                \n",
      "io.plot_file                             = plt                 \n",
      "io.KE_int                                = -1                  \n",
      "incflo.post_processing                   = sampling            \n",
      "\n",
      "# --- Sampling parameters ---\n",
      "sampling.output_frequency                = 100                 \n",
      "sampling.fields                          = velocity            \n",
      "\n",
      "#---- sample defs ----\n",
      "sampling.labels                          = hhplane1 hhplane2 xzplane1\n",
      "sampling.hhplane1.type                   = PlaneSampler        \n",
      "sampling.hhplane1.num_points             = 129 49              \n",
      "sampling.hhplane1.origin                 = -2560.0 -960.0 0.0  \n",
      "sampling.hhplane1.axis1                  = 5120.0 0.0 0.0      \n",
      "sampling.hhplane1.axis2                  = 0.0 1920.0 0.0      \n",
      "sampling.hhplane1.normal                 = 0.0 0.0 0.0         \n",
      "sampling.hhplane2.type                   = PlaneSampler        \n",
      "sampling.hhplane2.num_points             = 349 117             \n",
      "sampling.hhplane2.origin                 = -1160.0 -580.0 0.0  \n",
      "sampling.hhplane2.axis1                  = 3480.0 0.0 0.0      \n",
      "sampling.hhplane2.axis2                  = 0.0 1160.0 0.0      \n",
      "sampling.hhplane2.normal                 = 0.0 0.0 0.0         \n",
      "sampling.xzplane1.type                   = PlaneSampler        \n",
      "sampling.xzplane1.num_points             = 349 65              \n",
      "sampling.xzplane1.origin                 = -1160.0 0.0 -320.0  \n",
      "sampling.xzplane1.axis1                  = 3480.0 0.0 0.0      \n",
      "sampling.xzplane1.axis2                  = 0.0 0.0 640.0       \n",
      "sampling.xzplane1.normal                 = 0.0 0.0 0.0         \n",
      "\n",
      "#---- tagging defs ----\n",
      "tagging.labels                           = box0 box1 box2      \n",
      "tagging.box0.type                        = GeometryRefinement  \n",
      "tagging.box0.shapes                      = box0                \n",
      "tagging.box0.level                       = 0                   \n",
      "tagging.box0.box0.type                   = box                 \n",
      "tagging.box0.box0.origin                 = -1270.0 -254.0 -254.0\n",
      "tagging.box0.box0.xaxis                  = 2540.0 0.0 0.0      \n",
      "tagging.box0.box0.yaxis                  = 0.0 508.0 0.0       \n",
      "tagging.box0.box0.zaxis                  = 0.0 0.0 508.0       \n",
      "tagging.box1.type                        = GeometryRefinement  \n",
      "tagging.box1.shapes                      = box1                \n",
      "tagging.box1.level                       = 1                   \n",
      "tagging.box1.box1.type                   = box                 \n",
      "tagging.box1.box1.origin                 = -381.0 -127.0 -152.4\n",
      "tagging.box1.box1.xaxis                  = 635.0 0.0 0.0       \n",
      "tagging.box1.box1.yaxis                  = 0.0 254.0 0.0       \n",
      "tagging.box1.box1.zaxis                  = 0.0 0.0 304.8       \n",
      "tagging.box2.type                        = GeometryRefinement  \n",
      "tagging.box2.shapes                      = box2                \n",
      "tagging.box2.level                       = 2                   \n",
      "tagging.box2.box2.type                   = box                 \n",
      "tagging.box2.box2.origin                 = -254.0 -95.25 -101.6\n",
      "tagging.box2.box2.xaxis                  = 412.75 0.0 0.0      \n",
      "tagging.box2.box2.yaxis                  = 0.0 190.5 0.0       \n",
      "tagging.box2.box2.zaxis                  = 0.0 0.0 203.2       \n",
      "\n",
      "#---- actuator defs ----\n",
      "Actuator.labels                          = turbine0            \n",
      "Actuator.turbine0.type                   = TurbineFastDisk     \n",
      "Actuator.turbine0.openfast_input_file    = turbine0_OpenFAST_NREL2p8-127/NREL-2p8-127.fst\n",
      "Actuator.turbine0.base_position          = 0.0 0.0 -90.0       \n",
      "Actuator.turbine0.rotor_diameter         = 127.0               \n",
      "Actuator.turbine0.hub_height             = 90.0                \n",
      "Actuator.turbine0.num_points_blade       = 64                  \n",
      "Actuator.turbine0.num_points_tower       = 12                  \n",
      "Actuator.turbine0.epsilon                = 3.0 3.0 3.0         \n",
      "Actuator.turbine0.epsilon_tower          = 3.0 3.0 3.0         \n",
      "Actuator.turbine0.openfast_start_time    = 0.0                 \n",
      "Actuator.turbine0.openfast_stop_time     = 1000.0              \n",
      "Actuator.turbine0.nacelle_drag_coeff     = 0.0                 \n",
      "Actuator.turbine0.nacelle_area           = 0.0                 \n",
      "Actuator.turbine0.yaw                    = 270.0               \n",
      "Actuator.turbine0.output_frequency       = 10                  \n",
      "Actuator.turbine0.density                = 1.0                 \n",
      "\n",
      "#---- extra params ----\n",
      "#== END AMR-WIND INPUT ==\n",
      "\n"
     ]
    }
   ],
   "source": [
    "outstr=tutorial1.writeAMRWindInput('nrel-2p8-uniform.inp')\n",
    "print(outstr)"
   ]
  },
  {
   "cell_type": "code",
   "execution_count": null,
   "metadata": {
    "collapsed": true,
    "deletable": true,
    "editable": true
   },
   "outputs": [],
   "source": []
  }
 ],
 "metadata": {
  "kernelspec": {
   "display_name": "Python 2",
   "language": "python",
   "name": "python2"
  },
  "language_info": {
   "codemirror_mode": {
    "name": "ipython",
    "version": 2
   },
   "file_extension": ".py",
   "mimetype": "text/x-python",
   "name": "python",
   "nbconvert_exporter": "python",
   "pygments_lexer": "ipython2",
   "version": "2.7.13"
  }
 },
 "nbformat": 4,
 "nbformat_minor": 2
}
